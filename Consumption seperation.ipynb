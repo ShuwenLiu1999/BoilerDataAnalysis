{
 "cells": [
  {
   "cell_type": "code",
   "id": "e94d97bdc3632376",
   "metadata": {
    "collapsed": true,
    "ExecuteTime": {
     "end_time": "2024-08-06T12:50:50.351556Z",
     "start_time": "2024-08-06T12:50:50.311862Z"
    }
   },
   "source": [
    "#seperating the DHW and CH consumption\n",
    "\n",
    "import os\n",
    "import pandas as pd\n",
    "import glob\n",
    "import pyarrow.parquet as pq\n",
    "from tqdm import tqdm\n",
    "import numpy as np\n",
    "import datetime\n"
   ],
   "outputs": [],
   "execution_count": 2
  },
  {
   "metadata": {
    "ExecuteTime": {
     "end_time": "2024-08-06T14:06:02.869198Z",
     "start_time": "2024-08-06T12:52:29.902252Z"
    }
   },
   "cell_type": "code",
   "source": [
    "\n",
    "MaxPowList = pd.read_csv(r'D:\\2min-resample\\MetaDataSeparation\\MetaData Filtered\\PowerMaxT.csv',index_col=0)\n",
    "Cwater = 4.2 #kJ/(kg*K)\n",
    "ita = 0.9 #efficiency\n",
    "\n",
    "\n",
    "def mainsw_temp(DateTime):\n",
    "    day_of_year = DateTime.dayofyear\n",
    "    ave = 11\n",
    "    fluc = 5* np.sin((day_of_year-141)*2*np.pi/365)\n",
    "    return ave+fluc\n",
    "\n",
    "\n",
    "def extract_and_resample_and_calculate(file, resample_freq='30min'):\n",
    "    global MaxPowList, Cwater, ita\n",
    "    file_name = os.path.basename(file)\n",
    "    df = pq.read_table(file).to_pandas()\n",
    "    df.index = pd.to_datetime(df.index)\n",
    "    \n",
    "    # print(f\"Processing file: {file_name}\")\n",
    "    # print(\"Initial data sample:\")\n",
    "    # print(df.head())\n",
    "\n",
    "    df['MainsWT'] = df.index.to_series().apply(mainsw_temp)\n",
    "    df['DHWpow'] = df['HwFlow[L/min](float32)'] * (df['HwTOutlet[degC](float32)'] - df['MainsWT']) * df['ChActive'] * Cwater /(ita*60)\n",
    "    # print(\"Data after calculating DHWpow:\")\n",
    "    # print(df[['DHWpow']].head())\n",
    "    df['ActPow[%](float32)'] = df['ActPow[%](float32)'] * df['ChActive']\n",
    "    df['ActPow[%](float32)'] = df['ActPow[%](float32)'] * MaxPowList[file_name].iloc[0]/100\n",
    "    df['CHPow']= df['ActPow[%](float32)']-df['DHWpow']\n",
    "    # print(\"Data after calculating DHWpow and ActPow:\")\n",
    "    # print(df[['DHWpow', 'ActPow[%](float32)']].head())\n",
    "\n",
    "    # resampled_gpow = (df['ActPow[%](float32)'].resample(resample_freq).mean())/200\n",
    "    # resampled_DHWpow = (df['DHWpow'].resample(resample_freq).mean())/2\n",
    "    # \n",
    "    # resampled_df = pd.concat([resampled_gpow, resampled_DHWpow], axis=1)\n",
    "    # resampled_df['CHpow'] = resampled_df['ActPow[%](float32)'] - resampled_df['DHWpow']\n",
    "    \n",
    "    # print(\"Resampled data sample:\")\n",
    "    # print(resampled_df.head())\n",
    "    \n",
    "    return df['CHPow']\n",
    "\n",
    "def create_common_time_index(file_list, resample_freq='2min'):\n",
    "    # Create an empty DataFrame to hold all the indices\n",
    "    min_date, max_date = None, None\n",
    "\n",
    "    # Determine the overall time range from all files\n",
    "    for file in tqdm(file_list, desc=\"Getting Date Stamps\"):\n",
    "        df = pq.read_table(file).to_pandas()\n",
    "        df.index = pd.to_datetime(df.index)\n",
    "        current_min_date, current_max_date = df.index.min(), df.index.max()\n",
    "        if min_date is None or current_min_date < min_date:\n",
    "            min_date = current_min_date\n",
    "        if max_date is None or current_max_date > max_date:\n",
    "            max_date = current_max_date\n",
    "\n",
    "    # Create a common time index based on the overall time range\n",
    "    common_time_index = pd.date_range(start=min_date, end=max_date, freq=resample_freq)\n",
    "    \n",
    "    index_df = pd.DataFrame(common_time_index, columns=['datetime'])\n",
    "    # Save the DataFrame to a CSV file\n",
    "    index_df.to_csv(f'D:\\\\2min-resample\\MetaDataSeparation\\MetaData Filtered\\\\time_index{resample_freq}.csv', index=False)\n",
    "    \n",
    "    return common_time_index\n",
    "\n",
    "\n",
    "def main():\n",
    "    # Directory containing the parquet files\n",
    "    out_dir = r'D:\\2min-resample\\MetaDataSeparation\\MetaData Filtered\\load duration model_WODHW'\n",
    "    directories = [\n",
    "        r'D:\\2min-resample\\MetaDataSeparation\\MetaData Filtered\\With_RetT\\processed_files_Version3\\\\',\n",
    "        r'D:\\\\2min-resample\\MetaDataSeparation\\MetaData Filtered\\WO_RetT\\processed_files_Version3\\\\'\n",
    "    ]\n",
    "    # Initialize an empty list to hold all file paths\n",
    "    file_list = []\n",
    "\n",
    "    # Collect file paths from all directories\n",
    "    for directory in directories:\n",
    "        file_list.extend(glob.glob(os.path.join(directory, '*.parquet')))\n",
    "\n",
    "    # Create a common time index\n",
    "    # common_time_index = create_common_time_index(file_list)\n",
    "    \n",
    "    index_df = pd.read_csv(r'D:\\2min-resample\\MetaDataSeparation\\MetaData Filtered\\time_index2min.csv')\n",
    "    # Convert the DataFrame back to a DatetimeIndex\n",
    "    common_time_index = pd.to_datetime(index_df['datetime'])\n",
    "    \n",
    "    \n",
    "    # Dictionary to hold all resampled data\n",
    "    data_dict = {}\n",
    "    n=0\n",
    "    # Process each file\n",
    "    for file in tqdm(file_list, desc=\"Processing files\"):\n",
    "        file_name = os.path.basename(file)\n",
    "        resampled_series = extract_and_resample_and_calculate(file)\n",
    "        \n",
    "        # Align the resampled series to the common time index without filling missing values\n",
    "        resampled_series = resampled_series.reindex(common_time_index)\n",
    "        data_dict[file_name] = resampled_series\n",
    "        # n+=1\n",
    "        # if n==10:\n",
    "        #     break\n",
    "    # Combine all series into a single DataFrame\n",
    "    combined_df = pd.DataFrame(data_dict, index=common_time_index)\n",
    "     \n",
    "\n",
    "    # Save the combined DataFrame to a CSV file\n",
    "    output_csv_path = os.path.join(out_dir, 'combined_consumption_WODHW_2min.csv')\n",
    "    combined_df.to_csv(output_csv_path, index=True)\n",
    "\n",
    "if __name__ == \"__main__\":\n",
    "    main()"
   ],
   "id": "initial_id",
   "outputs": [
    {
     "name": "stderr",
     "output_type": "stream",
     "text": [
      "Processing files: 100%|██████████| 3231/3231 [1:08:37<00:00,  1.27s/it]\n"
     ]
    }
   ],
   "execution_count": 5
  },
  {
   "metadata": {
    "ExecuteTime": {
     "end_time": "2024-08-06T12:51:30.118902Z",
     "start_time": "2024-08-06T12:51:29.351394Z"
    }
   },
   "cell_type": "code",
   "source": [
    "common_time_index = pd.date_range(start=\"2021-07-24 00:00:00+00:00\", end=\"2022-08-24 00:00:00+00:00\", freq=\"2min\")\n",
    "index_df = pd.DataFrame(common_time_index, columns=['datetime'])\n",
    "# Save the DataFrame to a CSV file\n",
    "index_df.to_csv(f'D:\\\\2min-resample\\MetaDataSeparation\\MetaData Filtered\\\\time_index2min.csv', index=False)"
   ],
   "id": "53b6eba23be1ac2d",
   "outputs": [],
   "execution_count": 4
  },
  {
   "metadata": {
    "ExecuteTime": {
     "end_time": "2024-08-06T14:29:22.660392Z",
     "start_time": "2024-08-06T14:28:19.127519Z"
    }
   },
   "cell_type": "code",
   "source": [
    "df = pd.read_csv(r\"D:\\2min-resample\\MetaDataSeparation\\MetaData Filtered\\load duration model_WODHW\\combined_consumption_WODHW_2min.csv\",index_col=0)\n",
    "print(df.head(30))\n"
   ],
   "id": "f3975030c668f3bb",
   "outputs": [],
   "execution_count": null
  },
  {
   "metadata": {
    "ExecuteTime": {
     "end_time": "2024-08-06T14:34:57.961305Z",
     "start_time": "2024-08-06T14:34:45.427627Z"
    }
   },
   "cell_type": "code",
   "source": [
    "df['sum'] = df.sum(axis=1)\n",
    "dfout = df['sum']\n",
    "dfout = dfout.to_csv(r\"D:\\2min-resample\\MetaDataSeparation\\MetaData Filtered\\load duration model_WODHW\\sum_2min.csv\",index=True)"
   ],
   "id": "520b42a895240f50",
   "outputs": [],
   "execution_count": 8
  }
 ],
 "metadata": {
  "kernelspec": {
   "display_name": "Python 3",
   "language": "python",
   "name": "python3"
  },
  "language_info": {
   "codemirror_mode": {
    "name": "ipython",
    "version": 2
   },
   "file_extension": ".py",
   "mimetype": "text/x-python",
   "name": "python",
   "nbconvert_exporter": "python",
   "pygments_lexer": "ipython2",
   "version": "2.7.6"
  }
 },
 "nbformat": 4,
 "nbformat_minor": 5
}
